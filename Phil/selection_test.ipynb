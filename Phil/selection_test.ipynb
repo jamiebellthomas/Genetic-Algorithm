{
 "cells": [
  {
   "cell_type": "code",
   "execution_count": 9,
   "metadata": {},
   "outputs": [
    {
     "name": "stdout",
     "output_type": "stream",
     "text": [
      "[4 7]\n",
      "[0 5]\n",
      "[5 1]\n",
      "[1 5]\n"
     ]
    },
    {
     "data": {
      "text/plain": [
       "[2, 5, 5, 5]"
      ]
     },
     "execution_count": 9,
     "metadata": {},
     "output_type": "execute_result"
    }
   ],
   "source": [
    "import numpy as np\n",
    "\n",
    "num_agents = 4\n",
    "selected_population = []\n",
    "population_fitness = [0,1,7,1,4,5,6,7,8,9]\n",
    "\n",
    "\n",
    "\n",
    "for i in range(num_agents):\n",
    "    # selecting a random sample of agents from the population\n",
    "    tournament_size = 2 # binary tournament\n",
    "    tournament = np.random.choice(population_fitness, tournament_size, replace=False)\n",
    "    print(tournament)\n",
    "    # selecting the best agent from the tournament\n",
    "    best_agent = np.max(tournament)\n",
    "    # find index of best agent\n",
    "    best_agent = population_fitness.index(best_agent)\n",
    "    selected_population.append(best_agent)\n",
    "\n",
    "selected_population\n",
    "\n"
   ]
  },
  {
   "cell_type": "code",
   "execution_count": null,
   "metadata": {},
   "outputs": [],
   "source": []
  }
 ],
 "metadata": {
  "kernelspec": {
   "display_name": "IntrotoAI",
   "language": "python",
   "name": "python3"
  },
  "language_info": {
   "codemirror_mode": {
    "name": "ipython",
    "version": 3
   },
   "file_extension": ".py",
   "mimetype": "text/x-python",
   "name": "python",
   "nbconvert_exporter": "python",
   "pygments_lexer": "ipython3",
   "version": "3.10.9"
  },
  "orig_nbformat": 4,
  "vscode": {
   "interpreter": {
    "hash": "a0aed0f6fbe433bc52b0d9695aa280acd7f53d7a1ebceef14f891704e6b1da06"
   }
  }
 },
 "nbformat": 4,
 "nbformat_minor": 2
}
